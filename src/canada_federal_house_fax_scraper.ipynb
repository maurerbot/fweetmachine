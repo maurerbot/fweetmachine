{
 "cells": [
  {
   "cell_type": "code",
   "execution_count": null,
   "id": "visible-priest",
   "metadata": {
    "tags": [
     "parameters"
    ]
   },
   "outputs": [],
   "source": [
    "# crontab 0 5 * * *"
   ]
  },
  {
   "cell_type": "code",
   "execution_count": null,
   "id": "tamil-processing",
   "metadata": {},
   "outputs": [],
   "source": [
    "import json"
   ]
  },
  {
   "cell_type": "code",
   "execution_count": null,
   "id": "powerful-popularity",
   "metadata": {},
   "outputs": [],
   "source": [
    "import pandas as pd"
   ]
  },
  {
   "cell_type": "code",
   "execution_count": null,
   "id": "overall-preservation",
   "metadata": {},
   "outputs": [],
   "source": [
    "from urllib.parse import urljoin, urlparse, urlunparse"
   ]
  },
  {
   "cell_type": "code",
   "execution_count": null,
   "id": "strong-hollow",
   "metadata": {},
   "outputs": [],
   "source": [
    "import scrapy\n",
    "from scrapy.loader import ItemLoader"
   ]
  },
  {
   "cell_type": "code",
   "execution_count": null,
   "id": "polar-liberty",
   "metadata": {},
   "outputs": [],
   "source": [
    "from itemloaders.processors import MapCompose, TakeFirst, Join"
   ]
  },
  {
   "cell_type": "code",
   "execution_count": null,
   "id": "remarkable-india",
   "metadata": {},
   "outputs": [],
   "source": [
    "import re"
   ]
  },
  {
   "cell_type": "code",
   "execution_count": null,
   "id": "coordinate-determination",
   "metadata": {},
   "outputs": [],
   "source": [
    "import math"
   ]
  },
  {
   "cell_type": "code",
   "execution_count": null,
   "id": "horizontal-rough",
   "metadata": {},
   "outputs": [],
   "source": [
    "from w3lib.html import remove_tags"
   ]
  },
  {
   "cell_type": "code",
   "execution_count": null,
   "id": "c01f6dd2-2a80-4a64-a26e-87af67bfa2b2",
   "metadata": {},
   "outputs": [],
   "source": [
    "p_fax = re.compile('Fax:\\s(\\d{3,3}-\\d{3,3}-\\d{4,4})')\n",
    "def get_fax(value):\n",
    "    m = p_fax.findall(value)\n",
    "    return m[0]"
   ]
  },
  {
   "cell_type": "code",
   "execution_count": null,
   "id": "e87d744f-6be2-45b2-b12b-3e869f5e1712",
   "metadata": {},
   "outputs": [],
   "source": [
    "p_name = re.compile('<h1>(The Honourable )?(The Right Honourable )?(.*)</h1>')\n",
    "def get_name(value):\n",
    "    m = p_name.findall(value)\n",
    "    return m[0][2]"
   ]
  },
  {
   "cell_type": "code",
   "execution_count": null,
   "id": "responsible-membership",
   "metadata": {},
   "outputs": [],
   "source": [
    "class Fax(scrapy.Item):\n",
    "    fax = scrapy.Field(\n",
    "        input_processor=MapCompose(get_fax),\n",
    "        output_processor=TakeFirst(),\n",
    "    )\n",
    "    name = scrapy.Field(\n",
    "        input_processor=MapCompose(get_name),\n",
    "        output_processor=TakeFirst(),\n",
    "    )"
   ]
  },
  {
   "cell_type": "code",
   "execution_count": null,
   "id": "killing-carol",
   "metadata": {
    "hidePrompt": true
   },
   "outputs": [],
   "source": [
    "class CanadaFederalHouseFaxSpider(scrapy.Spider):\n",
    "    name = 'canada_federal_house_faxes'\n",
    "    domain = 'https://www.ourcommons.ca'\n",
    "    start_urls = [\n",
    "        ''.join([domain, '/Members/en/search'])\n",
    "    ]\n",
    "\n",
    "    def parse(self, response):\n",
    "        members = set()\n",
    "        for member in response.css('.ce-mip-mp-tile-container'):\n",
    "\n",
    "            # Get the URL for the contact page.\n",
    "            url = ''.join([self.domain, member.css('a::attr(\"href\")').get().strip(), '#contact'])\n",
    "            \n",
    "            # Add to set to dedupe.\n",
    "            members.add(url)\n",
    "            \n",
    "        yield from response.follow_all(members, callback=self.parse_member)\n",
    "\n",
    "    def parse_member(self, response):\n",
    "        loader = ItemLoader(item=Fax(), response=response)\n",
    "        loader.add_css('fax', '.col-md-3')\n",
    "        loader.add_css('name', 'body > main:nth-child(4) > div:nth-child(3) > h1:nth-child(2)')\n",
    "        return loader.load_item()"
   ]
  },
  {
   "cell_type": "code",
   "execution_count": null,
   "id": "convinced-harris",
   "metadata": {
    "tags": []
   },
   "outputs": [],
   "source": [
    "from scrapy.crawler import CrawlerProcess\n",
    "# from scrapy.utils.project import get_project_settings\n",
    "# print(repr(get_project_settings()))\n",
    "\n",
    "process = CrawlerProcess({\n",
    "#     'LOG_ENABLED': False,\n",
    "    'FEEDS': {\n",
    "        'fax.jsonl': {\n",
    "            'format': 'jsonlines',\n",
    "            'encoding': 'utf8',\n",
    "        },\n",
    "    },\n",
    "})\n",
    "\n",
    "process.crawl(CanadaFederalHouseFaxSpider)\n",
    "process.start()"
   ]
  },
  {
   "cell_type": "code",
   "execution_count": null,
   "id": "finite-letter",
   "metadata": {},
   "outputs": [],
   "source": [
    "f = open('fax.jsonl', 'r')\n",
    "json_lines = [json.loads(line) for line in f]\n",
    "f.close()"
   ]
  },
  {
   "cell_type": "code",
   "execution_count": null,
   "id": "molecular-spending",
   "metadata": {},
   "outputs": [],
   "source": [
    "df = pd.json_normalize(json_lines)\n",
    "df"
   ]
  },
  {
   "cell_type": "code",
   "execution_count": null,
   "id": "buried-growth",
   "metadata": {},
   "outputs": [],
   "source": []
  }
 ],
 "metadata": {
  "kernelspec": {
   "display_name": "Python 3",
   "language": "python",
   "name": "python3"
  },
  "language_info": {
   "codemirror_mode": {
    "name": "ipython",
    "version": 3
   },
   "file_extension": ".py",
   "mimetype": "text/x-python",
   "name": "python",
   "nbconvert_exporter": "python",
   "pygments_lexer": "ipython3",
   "version": "3.8.5"
  }
 },
 "nbformat": 4,
 "nbformat_minor": 5
}
